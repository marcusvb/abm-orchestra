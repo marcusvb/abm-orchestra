{
 "cells": [
  {
   "cell_type": "code",
   "execution_count": 2,
   "metadata": {},
   "outputs": [
    {
     "data": {
      "text/plain": [
       "[<matplotlib.lines.Line2D at 0xc07c92828>]"
      ]
     },
     "execution_count": 2,
     "metadata": {},
     "output_type": "execute_result"
    },
    {
     "data": {
      "image/png": "[encoded data removed]",
      "text/plain": [
       "<Figure size 432x288 with 1 Axes>"
      ]
     },
     "metadata": {
      "needs_background": "light"
     },
     "output_type": "display_data"
    }
   ],
   "source": [
    "from scipy.stats import skewnorm\n",
    "import matplotlib.pyplot as plt\n",
    "import numpy as np\n",
    "\n",
    "a = 4.0\n",
    "\n",
    "x = np.linspace(skewnorm.ppf(0.01, a), \n",
    "               skewnorm.ppf(0.99, a), 100)\n",
    "\n",
    "\n",
    "fig, ax = plt.subplots(1, 1)\n",
    "\n",
    "ax.plot(x, skewnorm.pdf(x, a))\n",
    "\n"
   ]
  },
  {
   "cell_type": "code",
   "execution_count": 4,
   "metadata": {},
   "outputs": [
    {
     "name": "stdout",
     "output_type": "stream",
     "text": [
      "[-0.30308367 -0.27649012 -0.24989658 -0.22330303 -0.19670949 -0.17011595\n",
      " -0.1435224  -0.11692886 -0.09033531 -0.06374177 -0.03714822 -0.01055468\n",
      "  0.01603886  0.04263241  0.06922595  0.0958195   0.12241304  0.14900658\n",
      "  0.17560013  0.20219367  0.22878722  0.25538076  0.28197431  0.30856785\n",
      "  0.33516139  0.36175494  0.38834848  0.41494203  0.44153557  0.46812912\n",
      "  0.49472266  0.5213162   0.54790975  0.57450329  0.60109684  0.62769038\n",
      "  0.65428393  0.68087747  0.70747101  0.73406456  0.7606581   0.78725165\n",
      "  0.81384519  0.84043873  0.86703228  0.89362582  0.92021937  0.94681291\n",
      "  0.97340646  1.        ]\n"
     ]
    }
   ],
   "source": [
    "f = np.linspace(skewnorm.ppf(0.01, a), 1)\n",
    "print(f)"
   ]
  },
  {
   "cell_type": "code",
   "execution_count": null,
   "metadata": {},
   "outputs": [],
   "source": []
  }
 ],
 "metadata": {
  "kernelspec": {
   "display_name": "Python 3",
   "language": "python",
   "name": "python3"
  },
  "language_info": {
   "codemirror_mode": {
    "name": "ipython",
    "version": 3
   },
   "file_extension": ".py",
   "mimetype": "text/x-python",
   "name": "python",
   "nbconvert_exporter": "python",
   "pygments_lexer": "ipython3",
   "version": "3.7.3"
  },
  "toc": {
   "base_numbering": 1,
   "nav_menu": {},
   "number_sections": true,
   "sideBar": true,
   "skip_h1_title": false,
   "title_cell": "Table of Contents",
   "title_sidebar": "Contents",
   "toc_cell": false,
   "toc_position": {},
   "toc_section_display": true,
   "toc_window_display": false
  }
 },
 "nbformat": 4,
 "nbformat_minor": 2
}
