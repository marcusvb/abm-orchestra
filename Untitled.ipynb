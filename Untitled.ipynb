{
 "cells": [
  {
   "cell_type": "code",
   "execution_count": 63,
   "metadata": {},
   "outputs": [
    {
     "name": "stdout",
     "output_type": "stream",
     "text": [
      "-0.48115281877067945\n",
      "(-1.141196932570466, 0.4325500069554506)\n"
     ]
    },
    {
     "data": {
      "image/png": "[encoded data removed]",
      "text/plain": [
       "<Figure size 432x288 with 1 Axes>"
      ]
     },
     "metadata": {
      "needs_background": "light"
     },
     "output_type": "display_data"
    }
   ],
   "source": [
    "from scipy.stats import skewnorm\n",
    "import matplotlib.pyplot as plt\n",
    "import numpy as np\n",
    "\n",
    "a = -2.0\n",
    "\n",
    "endpoints = skewnorm.interval(0.99999, a, loc=0, scale=0.25)\n",
    "\n",
    "x = np.linspace(skewnorm.ppf(0.01, a), \n",
    "               skewnorm.ppf(0.99, a), 100)\n",
    "\n",
    "\n",
    "fig, ax = plt.subplots(1, 1)\n",
    "\n",
    "ax.plot(x, skewnorm.pdf(x, a))\n",
    "\n",
    "r = skewnorm.rvs(a, size=1)\n",
    "print(r[0])\n",
    "\n",
    "print(endpoints)"
   ]
  },
  {
   "cell_type": "code",
   "execution_count": 55,
   "metadata": {},
   "outputs": [
    {
     "name": "stdout",
     "output_type": "stream",
     "text": [
      "[0.39892233 0.41118922 0.42345612 0.43572301 0.4479899  0.46025679\n",
      " 0.47252368 0.48479057 0.49705746 0.50932435 0.52159125 0.53385814\n",
      " 0.54612503 0.55839192 0.57065881 0.5829257  0.59519259 0.60745948\n",
      " 0.61972637 0.63199327 0.64426016 0.65652705 0.66879394 0.68106083\n",
      " 0.69332772 0.70559461 0.7178615  0.73012839 0.74239529 0.75466218\n",
      " 0.76692907 0.77919596 0.79146285 0.80372974 0.81599663 0.82826352\n",
      " 0.84053042 0.85279731 0.8650642  0.87733109 0.88959798 0.90186487\n",
      " 0.91413176 0.92639865 0.93866554 0.95093244 0.96319933 0.97546622\n",
      " 0.98773311 1.        ]\n",
      "[0.24439035 0.25981096 0.27523156 0.29065217 0.30607277 0.32149338\n",
      " 0.33691398 0.35233459 0.36775519 0.3831758  0.3985964  0.41401701\n",
      " 0.42943761 0.44485822 0.46027882 0.47569943 0.49112003 0.50654064\n",
      " 0.52196124 0.53738185 0.55280245 0.56822306 0.58364366 0.59906427\n",
      " 0.61448487 0.62990548 0.64532608 0.66074669 0.67616729 0.6915879\n",
      " 0.7070085  0.72242911 0.73784971 0.75327032 0.76869092 0.78411153\n",
      " 0.79953213 0.81495274 0.83037334 0.84579395 0.86121455 0.87663516\n",
      " 0.89205576 0.90747637 0.92289697 0.93831758 0.95373818 0.96915879\n",
      " 0.98457939 1.        ]\n",
      "<scipy.stats._distn_infrastructure.rv_frozen object at 0x0000000C164BC278>\n"
     ]
    }
   ],
   "source": [
    "f = np.linspace(skewnorm.pdf(0.01, a), 1)\n",
    "p = np.linspace(skewnorm.pdf(0.99, a), 1)\n",
    "print(f)\n",
    "print(p)\n",
    "print(skewnorm(a))"
   ]
  },
  {
   "cell_type": "code",
   "execution_count": 98,
   "metadata": {},
   "outputs": [
    {
     "name": "stdout",
     "output_type": "stream",
     "text": [
      "0.6712703206131462\n"
     ]
    },
    {
     "data": {
      "text/plain": [
       "(array([42., 27., 13.,  4.,  4.,  3.,  3.,  3.,  0.,  1.]),\n",
       " array([1.18246025e-03, 3.49093765e-01, 6.97005071e-01, 1.04491638e+00,\n",
       "        1.39282768e+00, 1.74073899e+00, 2.08865029e+00, 2.43656160e+00,\n",
       "        2.78447290e+00, 3.13238421e+00, 3.48029551e+00]),\n",
       " <a list of 10 Patch objects>)"
      ]
     },
     "execution_count": 98,
     "metadata": {},
     "output_type": "execute_result"
    },
    {
     "data": {
      "image/png": "[encoded data removed]",
      "text/plain": [
       "<Figure size 432x288 with 1 Axes>"
      ]
     },
     "metadata": {
      "needs_background": "light"
     },
     "output_type": "display_data"
    }
   ],
   "source": [
    "import numpy as np\n",
    "nummer = np.random.exponential(0.75, size = 100)\n",
    "print(np.mean(nummer))\n",
    "plt.hist(nummer)"
   ]
  },
  {
   "cell_type": "code",
   "execution_count": null,
   "metadata": {},
   "outputs": [],
   "source": []
  }
 ],
 "metadata": {
  "kernelspec": {
   "display_name": "Python 3",
   "language": "python",
   "name": "python3"
  },
  "language_info": {
   "codemirror_mode": {
    "name": "ipython",
    "version": 3
   },
   "file_extension": ".py",
   "mimetype": "text/x-python",
   "name": "python",
   "nbconvert_exporter": "python",
   "pygments_lexer": "ipython3",
   "version": "3.7.3"
  },
  "toc": {
   "base_numbering": 1,
   "nav_menu": {},
   "number_sections": true,
   "sideBar": true,
   "skip_h1_title": false,
   "title_cell": "Table of Contents",
   "title_sidebar": "Contents",
   "toc_cell": false,
   "toc_position": {},
   "toc_section_display": true,
   "toc_window_display": false
  }
 },
 "nbformat": 4,
 "nbformat_minor": 2
}
